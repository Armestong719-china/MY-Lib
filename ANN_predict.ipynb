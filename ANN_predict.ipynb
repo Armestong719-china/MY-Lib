{
 "cells": [
  {
   "cell_type": "markdown",
   "metadata": {},
   "source": [
    "# The Artificial Neural Network Algorithm (predicting part)"
   ]
  },
  {
   "cell_type": "markdown",
   "metadata": {},
   "source": [
    "## 1. Import packages "
   ]
  },
  {
   "cell_type": "code",
   "execution_count": 9,
   "metadata": {},
   "outputs": [],
   "source": [
    "import time\n",
    "import torch\n",
    "import pandas as pd\n",
    "import torch.nn as nn\n",
    "import torch.nn.functional as F\n",
    "import numpy as np\n",
    "import matplotlib.pyplot as plt\n",
    "from sklearn.metrics import accuracy_score\n",
    "from sklearn.preprocessing import MinMaxScaler as MMS\n",
    "from sklearn.impute import SimpleImputer as SI"
   ]
  },
  {
   "cell_type": "markdown",
   "metadata": {},
   "source": [
    "## 2. Data uploading and preprocessing"
   ]
  },
  {
   "cell_type": "markdown",
   "metadata": {},
   "source": [
    "Upload the training and testing data from .csv files"
   ]
  },
  {
   "cell_type": "code",
   "execution_count": 2,
   "metadata": {},
   "outputs": [],
   "source": [
    "data = pd.read_csv(\"new_data.csv\")\n",
    "Test = pd.read_csv(\"test_set.csv\")"
   ]
  },
  {
   "cell_type": "markdown",
   "metadata": {},
   "source": [
    "Then, remove features that are irrelevent to the game result and normalize the remaining attributes' values "
   ]
  },
  {
   "cell_type": "code",
   "execution_count": 3,
   "metadata": {},
   "outputs": [],
   "source": [
    "SI = SI()\n",
    "scaler = MMS(feature_range=(0,1))\n",
    "X = data.drop(['gameDuration','gameId','seasonId','creationTime','winner'],axis=1).values#delete the meaningless features\n",
    "#X = SI.fit_transform(X)\n",
    "#X = scaler.fit_transform(X)\n",
    "X_test = Test.drop(['gameDuration','gameId','seasonId','creationTime','winner'],axis=1).values\n",
    "#X_test = SI.fit_transform(X_test)\n",
    "#X_test = scaler.fit_transform(X_test)\n",
    "y = data['winner'] - 1# extract the standard training result\n",
    "y_test = Test[\"winner\"] - 1\n",
    "\n",
    "\n",
    "X_test = torch.FloatTensor(X_test)\n",
    "y_test = torch.LongTensor(y_test)\n",
    "X_train = torch.FloatTensor(X)\n",
    "y_train = torch.LongTensor(y)# transform the training set into tensor type"
   ]
  },
  {
   "cell_type": "markdown",
   "metadata": {},
   "source": [
    "## 3. Model defining and training"
   ]
  },
  {
   "cell_type": "markdown",
   "metadata": {},
   "source": [
    "Define the ANN class and instantiate it."
   ]
  },
  {
   "cell_type": "code",
   "execution_count": 4,
   "metadata": {},
   "outputs": [],
   "source": [
    "class ANN(nn.Module):\n",
    "    def __init__(self):\n",
    "        super().__init__()\n",
    "        self.hidden_1 = nn.Linear(in_features=16,out_features=17)#in_features = number of features\n",
    "        self.output = nn.Linear(in_features=17,out_features=2)#out_features = kinds of output\n",
    "    def forward(self,x):\n",
    "        x = torch.sigmoid(self.hidden_1(x))\n",
    "        x = self.output(x)\n",
    "        x = F.softmax(x,dim=1)\n",
    "        return x\n",
    "model = ANN()"
   ]
  },
  {
   "cell_type": "markdown",
   "metadata": {},
   "source": [
    "Define the cost function and optimize function with learning rate 0.46"
   ]
  },
  {
   "cell_type": "code",
   "execution_count": 5,
   "metadata": {},
   "outputs": [],
   "source": [
    "cost = nn.CrossEntropyLoss()\n",
    "back_propagation = torch.optim.Adam(model.parameters(),lr=0.19)"
   ]
  },
  {
   "cell_type": "markdown",
   "metadata": {},
   "source": [
    "Training the model in 100 loops and make a prediction at the same time."
   ]
  },
  {
   "cell_type": "code",
   "execution_count": 10,
   "metadata": {},
   "outputs": [],
   "source": [
    "time_1 = time.time()\n",
    "epochs = 100\n",
    "accuracies = []\n",
    "index = []\n",
    "errors = []\n",
    "for i in range(epochs):\n",
    "    y_hat = model.forward(X_train)\n",
    "    error = cost(y_hat,y_train)\n",
    "    errors.append(error)\n",
    "    predict = model(X_test)\n",
    "    _,predict_y = torch.max(predict,1)\n",
    "    accuracy = accuracy_score(y_test,predict_y)\n",
    "    accuracies.append(accuracy)\n",
    "    back_propagation.zero_grad()\n",
    "    error.backward()\n",
    "    back_propagation.step()\n",
    "    index.append(i)\n",
    "time_2 = time.time()"
   ]
  },
  {
   "cell_type": "markdown",
   "metadata": {},
   "source": [
    "## 4. Prediction result"
   ]
  },
  {
   "cell_type": "code",
   "execution_count": 11,
   "metadata": {},
   "outputs": [
    {
     "data": {
      "text/plain": [
       "4.108757972717285"
      ]
     },
     "execution_count": 11,
     "metadata": {},
     "output_type": "execute_result"
    }
   ],
   "source": [
    "diff_time = time_2-time_1\n",
    "diff_time"
   ]
  },
  {
   "cell_type": "code",
   "execution_count": 7,
   "metadata": {},
   "outputs": [
    {
     "data": {
      "text/plain": [
       "0.9669192655202565"
      ]
     },
     "execution_count": 7,
     "metadata": {},
     "output_type": "execute_result"
    },
    {
     "data": {
      "image/png": "[encoded data removed]",
      "text/plain": [
       "<Figure size 432x288 with 1 Axes>"
      ]
     },
     "metadata": {
      "needs_background": "light"
     },
     "output_type": "display_data"
    }
   ],
   "source": [
    "#plt.ylim(0.96,0.97)\n",
    "plt.plot(index[:],accuracies[:])\n",
    "np.max(accuracies[:])"
   ]
  },
  {
   "cell_type": "code",
   "execution_count": null,
   "metadata": {},
   "outputs": [],
   "source": []
  },
  {
   "cell_type": "code",
   "execution_count": null,
   "metadata": {},
   "outputs": [],
   "source": []
  },
  {
   "cell_type": "code",
   "execution_count": null,
   "metadata": {},
   "outputs": [],
   "source": []
  }
 ],
 "metadata": {
  "kernelspec": {
   "display_name": "Python 3",
   "language": "python",
   "name": "python3"
  },
  "language_info": {
   "codemirror_mode": {
    "name": "ipython",
    "version": 3
   },
   "file_extension": ".py",
   "mimetype": "text/x-python",
   "name": "python",
   "nbconvert_exporter": "python",
   "pygments_lexer": "ipython3",
   "version": "3.7.4"
  }
 },
 "nbformat": 4,
 "nbformat_minor": 2
}
