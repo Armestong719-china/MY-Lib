{
 "cells": [
  {
   "cell_type": "markdown",
   "metadata": {},
   "source": [
    "# The Artificial Neural Network Algorithm (training part)"
   ]
  },
  {
   "cell_type": "markdown",
   "metadata": {},
   "source": [
    "## 1. Import packages "
   ]
  },
  {
   "cell_type": "code",
   "execution_count": 7,
   "metadata": {},
   "outputs": [],
   "source": [
    "import torch\n",
    "import pandas as pd\n",
    "import torch.nn as nn\n",
    "import torch.nn.functional as F\n",
    "import numpy as np\n",
    "import matplotlib.pyplot as plt\n",
    "from sklearn.metrics import accuracy_score\n",
    "from sklearn.preprocessing import MinMaxScaler as MMS\n",
    "from sklearn.impute import SimpleImputer as SI"
   ]
  },
  {
   "cell_type": "markdown",
   "metadata": {},
   "source": [
    "## 2. Data uploading and preprocessing "
   ]
  },
  {
   "cell_type": "markdown",
   "metadata": {},
   "source": [
    "Upload the training data from .csv file"
   ]
  },
  {
   "cell_type": "code",
   "execution_count": 8,
   "metadata": {},
   "outputs": [],
   "source": [
    "data = pd.read_csv(\"new_data.csv\")"
   ]
  },
  {
   "cell_type": "markdown",
   "metadata": {},
   "source": [
    "Then, remove features that are irrelevent to the game result and normalize the remaining attributes' values "
   ]
  },
  {
   "cell_type": "code",
   "execution_count": 9,
   "metadata": {},
   "outputs": [],
   "source": [
    "SI = SI()\n",
    "scaler = MMS(feature_range=(0,1))\n",
    "X = data.drop(['gameDuration','gameId','seasonId','creationTime','winner'],axis=1).values#delete the meaningless features\n",
    "#X = SI.fit_transform(X)\n",
    "#X = scaler.fit_transform(X)\n",
    "#X_test = Test.drop(['gameId','seasonId','creationTime','winner'],axis=1).values\n",
    "#X_test = SI.fit_transform(X_test)\n",
    "#X_test = scaler.fit_transform(X_test)\n",
    "y = data['winner'] - 1# extract the standard training result\n",
    "#y_test = Test[\"winner\"] - 1\n",
    "\n",
    "\n",
    "#X_test = torch.FloatTensor(X_test)\n",
    "#y_test = torch.LongTensor(y_test)\n",
    "X_train = torch.FloatTensor(X)\n",
    "y_train = torch.LongTensor(y)# transform the training set into tensor type"
   ]
  },
  {
   "cell_type": "markdown",
   "metadata": {},
   "source": [
    "## 3. Model defining and training"
   ]
  },
  {
   "cell_type": "markdown",
   "metadata": {},
   "source": [
    "Define the ANN class and instantiate it."
   ]
  },
  {
   "cell_type": "code",
   "execution_count": 10,
   "metadata": {},
   "outputs": [],
   "source": [
    "class ANN(nn.Module):\n",
    "    def __init__(self):\n",
    "        super().__init__()\n",
    "        self.hidden_1 = nn.Linear(in_features=16,out_features=17)#in_features = number of features\n",
    "        self.output = nn.Linear(in_features=17,out_features=2)#out_features = kinds of output\n",
    "    def forward(self,x):\n",
    "        x = torch.sigmoid(self.hidden_1(x))\n",
    "        x = self.output(x)\n",
    "        x = F.softmax(x,dim=1)\n",
    "        return x\n",
    "model = ANN()"
   ]
  },
  {
   "cell_type": "code",
   "execution_count": 11,
   "metadata": {},
   "outputs": [],
   "source": [
    "index = []\n",
    "for rate in np.arange(0.01,0.9,0.01):\n",
    "    cost = nn.CrossEntropyLoss()\n",
    "    back_propagation = torch.optim.Adam(model.parameters(),lr=rate)\n",
    "    back_propagation.zero_grad()\n",
    "    epochs = 200\n",
    "    errors = []\n",
    "    #index = []\n",
    "    for i in range(epochs):\n",
    "        y_hat = model.forward(X_train)\n",
    "        error = cost(y_hat,y_train)\n",
    "        errors.append(error)\n",
    "        back_propagation.zero_grad()\n",
    "        error.backward()\n",
    "        back_propagation.step()\n",
    "        #index.append(i)\n",
    "        #print(f\"Epoch :{i} Loss:{error}\")\n",
    "        \n",
    "    index.append(error)\n",
    "    \n",
    "\n"
   ]
  },
  {
   "cell_type": "markdown",
   "metadata": {},
   "source": [
    "## 4. Training result"
   ]
  },
  {
   "cell_type": "code",
   "execution_count": 12,
   "metadata": {},
   "outputs": [
    {
     "name": "stdout",
     "output_type": "stream",
     "text": [
      "Min_error:0.33189308643341064 Rate:0.19\n"
     ]
    },
    {
     "data": {
      "image/png": "[encoded data removed]",
      "text/plain": [
       "<Figure size 432x288 with 1 Axes>"
      ]
     },
     "metadata": {
      "needs_background": "light"
     },
     "output_type": "display_data"
    }
   ],
   "source": [
    "plt.plot(np.arange(0.01,0.9,0.01),index[:])\n",
    "#plt.plot(index[:],errors[:])\n",
    "min_error = np.min(index[:])\n",
    "min_rate = np.argmin(index[:])\n",
    "print(f\"Min_error:{min_error} Rate:{0.01*min_rate}\")"
   ]
  },
  {
   "cell_type": "code",
   "execution_count": null,
   "metadata": {},
   "outputs": [],
   "source": []
  }
 ],
 "metadata": {
  "kernelspec": {
   "display_name": "Python 3",
   "language": "python",
   "name": "python3"
  },
  "language_info": {
   "codemirror_mode": {
    "name": "ipython",
    "version": 3
   },
   "file_extension": ".py",
   "mimetype": "text/x-python",
   "name": "python",
   "nbconvert_exporter": "python",
   "pygments_lexer": "ipython3",
   "version": "3.7.4"
  }
 },
 "nbformat": 4,
 "nbformat_minor": 2
}
